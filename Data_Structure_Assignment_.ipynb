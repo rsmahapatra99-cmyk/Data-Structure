{
  "nbformat": 4,
  "nbformat_minor": 0,
  "metadata": {
    "colab": {
      "provenance": []
    },
    "kernelspec": {
      "name": "python3",
      "display_name": "Python 3"
    },
    "language_info": {
      "name": "python"
    }
  },
  "cells": [
    {
      "cell_type": "markdown",
      "source": [
        "1. What are data structures, and why are they important?\n",
        "\n",
        "Data structures are ways of organizing and storing data in a computer so that it can be accessed and manupulted Effectively.\n",
        "\n",
        "Data Structure- String, tupple, list, dictionaries, arrey, set\n"
      ],
      "metadata": {
        "id": "-RxYZFoyDsrU"
      }
    },
    {
      "cell_type": "markdown",
      "source": [
        "2.  Explain the difference between mutable and immutable data types with examples?\n",
        "\n",
        "Mutable Data Types-\n",
        "\n",
        "Can be changed after creation.\n",
        "\n",
        "You can modify, add, or delete elements in-place.\n",
        "\n",
        "Examples of Mutable Data Types in Python: List, Dictionary, Set\n",
        "\n",
        "\n",
        "\n",
        "Immutable Data Types-\n",
        "\n",
        "Cannot be changed after creation.\n",
        "\n",
        "Any modification results in the creation of a new object.\n",
        "\n",
        "Examples of Immutable Data Types in Python: int, float, str, tuple"
      ],
      "metadata": {
        "id": "w3j6KkB1E0ED"
      }
    },
    {
      "cell_type": "markdown",
      "source": [
        "3. What are the main differences between lists and tuples in Python?\n",
        "\n",
        "LISTS:-\n",
        "\n",
        "Mutable (can be changed),\n",
        "Square brackets [],\n",
        "Slightly slower (more flexible),\n",
        "When you need to modify data\n",
        "\n",
        "TUPLE:-\n",
        "\n",
        "Immutable (cannot be changed),\n",
        "Slightly faster (less overhead),\n",
        "Parentheses (),\n",
        "When data should not change\n"
      ],
      "metadata": {
        "id": "XBE2Pw1EFiiA"
      }
    },
    {
      "cell_type": "markdown",
      "source": [
        "4. Describe how dictionaries store data?\n",
        "\n",
        "Dictionaries in Python store data using a hash table. This allows them to provide fast access, insertion, and deletion—typically in constant time, O(1), for average cases."
      ],
      "metadata": {
        "id": "Ms_Th9kfGhHB"
      }
    },
    {
      "cell_type": "markdown",
      "source": [
        "5. Why might you use a set instead of a list in Python?\n",
        "\n",
        "To Remove Duplicates Automatically\n",
        "\n",
        "Checking if an item is in a set is much faster than in a list\n",
        "\n",
        "Set Operations (Math-like)\n",
        "\n",
        "Sets support powerful operations like:\n",
        "\n",
        "Union: A | B\n",
        "\n",
        "Intersection: A & B\n",
        "\n",
        "Difference: A - B\n",
        "\n",
        "Symmetric Difference: A ^ B\n",
        "\n",
        "If you only care about having unique values, a set is simpler and more readable."
      ],
      "metadata": {
        "id": "lLRYQuaAG3vS"
      }
    },
    {
      "cell_type": "markdown",
      "source": [
        "6. What is a string in Python, and how is it different from a list?\n",
        "\n",
        "In Python, a string is a sequence of characters, while a list is a sequence of any data type, including strings, numbers, or even other lists.\n",
        "\n",
        "String (str):- Text (characters only), Immutable, 'Hello' or \"Hello\",\n",
        "\n",
        "List (list):- Any data type (mixed allowed), Mutable, ['H', 'e', 'l', 'l', 'o']\n"
      ],
      "metadata": {
        "id": "PGkjt7-7HjSB"
      }
    },
    {
      "cell_type": "markdown",
      "source": [
        "7. How do tuples ensure data integrity in Python?\n",
        "\n",
        "Tuples help ensure data integrity in Python primarily through their immutability—meaning that once a tuple is created, its contents cannot be changed."
      ],
      "metadata": {
        "id": "X1YGyOUHIa4Y"
      }
    },
    {
      "cell_type": "markdown",
      "source": [
        "8. What is a hash table, and how does it relate to dictionaries in Python?\n",
        "\n",
        "A hash table is a data structure that allows for fast storage and retrieval of data using key-value pairs. In Python, the dictionary (dict) is implemented using a hash table under the hood."
      ],
      "metadata": {
        "id": "RVjB61nLIsEH"
      }
    },
    {
      "cell_type": "markdown",
      "source": [
        "9. Can lists contain different data types in Python?\n",
        "\n",
        "Yes, lists in Python can contain different data types — and that's one of the powerful features of Python’s dynamic typing system.\n",
        "\n",
        "EXAMPLE-\n",
        "\n",
        "Holding diverse settings/configs\t[True, \"dark mode\", 100, 0.75]\n",
        "\n",
        "Mixed data rows (like CSV)\t[\"Alice\", 30, \"Engineer\", True]\n",
        "\n",
        "Grouping unrelated objects\t[42, \"text\", [1, 2], {\"a\": 1}]"
      ],
      "metadata": {
        "id": "ct_022W9JBwC"
      }
    },
    {
      "cell_type": "markdown",
      "source": [
        "10. Explain why strings are immutable in Python?\n",
        "\n",
        "Strings in Python are immutable, meaning once a string is created, it cannot be changed. Any operation that seems to modify a string actually creates a new string object.\n",
        "\n",
        "Data Integrity and Safety\n",
        "\n",
        "Performance and Optimization\n",
        "\n",
        "Hashability (Required for Dict Keys and Set Elements)"
      ],
      "metadata": {
        "id": "z_FCccIhJaOQ"
      }
    },
    {
      "cell_type": "markdown",
      "source": [
        "11. What advantages do dictionaries offer over lists for certain tasks?\n",
        "\n",
        "Feature\tWhy Dictionaries Excel-\n",
        "\n",
        "Fast Lookups by Key\tDictionaries provide O(1) average-time complexity for lookups by key, while lists require O(n) time to search for an item.\n",
        "Key-Value Pair Storage\tYou can store and access data by meaningful keys (e.g., person[\"age\"] = 30) rather than by index, making code more readable and intuitive.\n",
        "Unordered Collection\tYou don't need to maintain the order; dictionaries focus on mapping keys to values efficiently. (Since Python 3.7, dicts do preserve insertion order, but order is not the main feature.)\n",
        "No Duplicate Keys\tEach key is unique, so dictionaries inherently prevent duplicate keys, which is useful for ensuring data uniqueness based on keys.\n",
        "Flexible Keys\tKeys can be strings, numbers, or tuples (immutable types), allowing flexible, descriptive identifiers for data items.\n",
        "Efficient Updates\tQuickly add, update, or remove values based on keys without scanning the whole collection.\n",
        "Better Modeling of Real-World Data\tDictionaries naturally represent structures like objects, records, or configurations with named fields."
      ],
      "metadata": {
        "id": "glTPssmJJvmn"
      }
    },
    {
      "cell_type": "markdown",
      "source": [
        "12. Describe a scenario where using a tuple would be preferable over a list?\n",
        "\n",
        "Example: Coordinates in a 2D space\n",
        "\n",
        "Imagine you're working on a program that handles points on a 2D plane, and you want to represent the coordinates of each point as (x, y).\n",
        "\n",
        "point = (10, 20)  # Tuple representing fixed coordinates\n"
      ],
      "metadata": {
        "id": "9ib_CZE5KRin"
      }
    },
    {
      "cell_type": "markdown",
      "source": [
        "13.  How do sets handle duplicate values in Python?\n",
        "\n",
        "Sets in Python automatically eliminate duplicate values — they only store unique elements.\n",
        "\n",
        "How Sets Handle Duplicates:\n",
        "\n",
        "When you add items to a set, Python checks if the item is already present.\n",
        "\n",
        "If it is, the item is not added again.\n",
        "\n",
        "If it isn't, the item is added."
      ],
      "metadata": {
        "id": "EjKwUboWKlu3"
      }
    },
    {
      "cell_type": "markdown",
      "source": [
        "14.  How does the “in” keyword work differently for lists and dictionaries?\n",
        "\n",
        "How in Works for Lists\n",
        "\n",
        "Checks if a value is present anywhere in the list.\n",
        "\n",
        "Searches sequentially through the list items until it finds a match.\n",
        "\n",
        "Time complexity: O(n) (linear search).\n",
        "\n",
        "my_list = [10, 20, 30, 40]\n",
        "\n",
        "print(20 in my_list)  # True\n",
        "\n",
        "print(50 in my_list)  # False\n",
        "\n",
        "How in Works for Dictionaries\n",
        "\n",
        "Checks if a key is present in the dictionary (NOT the values).\n",
        "\n",
        "Uses a hash table lookup to find the key quickly.\n",
        "\n",
        "Time complexity: O(1) average case (constant time).\n",
        "\n",
        "Example:\n",
        "my_dict = {\"apple\": 5, \"banana\": 3}\n",
        "\n",
        "print(\"apple\" in my_dict)   # True (checks keys)\n",
        "\n",
        "print(5 in my_dict)         # False (5 is a value, not a key)"
      ],
      "metadata": {
        "id": "9o09P1vsK07u"
      }
    },
    {
      "cell_type": "markdown",
      "source": [
        "15. Can you modify the elements of a tuple? Explain why or why not?\n",
        "\n",
        "No, you cannot modify the elements of a tuple because tuples are immutable in Python.\n",
        "\n",
        "Immutability\n",
        "\n",
        "Tuples are designed to be immutable, meaning once a tuple is created, its content cannot be changed.\n",
        "\n",
        "Data Integrity and Safety\n",
        "\n",
        "Immutability ensures that tuples can be used as fixed data containers.\n",
        "\n",
        "This prevents accidental changes, making programs more predictable and safer.\n",
        "\n",
        "Hashability\n",
        "\n",
        "Because tuples are immutable, they are hashable if all their elements are hashable.\n",
        "\n",
        "This means tuples can be used as keys in dictionaries or elements in sets.\n",
        "\n",
        "Mutable objects like lists cannot be hashed and thus can't be used as keys."
      ],
      "metadata": {
        "id": "1icR5Ui6LPGv"
      }
    },
    {
      "cell_type": "markdown",
      "source": [
        "16. What is a nested dictionary, and give an example of its use case?\n",
        "\n",
        "A nested dictionary in Python is simply a dictionary where some of the values are themselves dictionaries. This allows you to represent hierarchical or structured data more naturally.\n",
        "\n",
        "What Is a Nested Dictionary?\n",
        "\n",
        "A dictionary within another dictionary.\n",
        "\n",
        "Enables multiple levels of key-value pairs.\n",
        "\n",
        "Useful for modeling complex data with multiple attributes grouped logically.\n",
        "\n",
        "nested_dict = {\n",
        "  \n",
        "    \"student1\": {\n",
        "        \"name\": \"Alice\",\n",
        "        \"age\": 20,\n",
        "        \"grades\": {\"math\": 90, \"science\": 85}\n",
        "    },\n",
        "    \"student2\": {\n",
        "        \"name\": \"Bob\",\n",
        "        \"age\": 22,\n",
        "        \"grades\": {\"math\": 75, \"science\": 95}\n",
        "    }\n",
        "}\n",
        "\n",
        "Use Case: Student Records\n",
        "\n",
        "Imagine you want to store information about multiple students:\n",
        "\n",
        "Each student has:\n",
        "\n",
        "A name\n",
        "\n",
        "An age\n",
        "\n",
        "A dictionary of grades by subject\n",
        "\n",
        "This nested structure organizes data clearly and allows easy access:\n",
        "\n",
        "# Access Bob's science grade\n",
        "\n",
        "print(nested_dict[\"student2\"][\"grades\"][\"science\"])"
      ],
      "metadata": {
        "id": "SGKPaeXiLkl_"
      }
    },
    {
      "cell_type": "markdown",
      "source": [
        "17. Describe the time complexity of accessing elements in a dictionary?\n",
        "\n",
        "Accessing elements in a dictionary is generally very fast because dictionaries are implemented using hash tables.\n",
        "\n",
        "Time Complexity of Accessing Dictionary Elements\n",
        "\n",
        "Operation\tAverage Time Complexity\tWorst-Case Time Complexity\n",
        "\n",
        "Accessing by key\tO(1) (constant time)\tO(n) (rare, due to hash collisions)\n",
        "Why?\n",
        "\n",
        "1. Average Case: O(1)\n",
        "\n",
        "When you do value = my_dict[key], Python:\n",
        "\n",
        "Applies a hash function to the key.\n",
        "\n",
        "Uses the hash to quickly locate the value in an internal array.\n",
        "\n",
        "This lookup is done in constant time, regardless of the dictionary size.\n",
        "\n",
        "2. Worst Case: O(n)\n",
        "\n",
        "In rare cases, hash collisions (different keys with the same hash) cause Python to handle collisions via probing or chaining.\n",
        "\n",
        "If many collisions occur, lookup time can degrade to linear time.\n",
        "\n",
        "But with a good hash function and resizing strategies, collisions are minimized."
      ],
      "metadata": {
        "id": "Fpd0TCEuMOkQ"
      }
    },
    {
      "cell_type": "markdown",
      "source": [
        "18. In what situations are lists preferred over dictionaries?\n",
        "\n",
        "While dictionaries are powerful for key-based access, lists shine in scenarios where their characteristics fit better\n",
        "\n",
        "When to Prefer Lists Over Dictionaries\n",
        "\n",
        "1. Ordered Collection of Items\n",
        "\n",
        "When you need to maintain order and access elements by their position/index.\n",
        "\n",
        "Lists preserve insertion order and allow easy iteration by index.\n",
        "\n",
        "2. Simple Sequences of Data\n",
        "\n",
        "When storing a simple collection of items without needing key-value pairs.\n",
        "\n",
        "For example, a list of scores, names, or timestamps.\n",
        "\n",
        "3. When You Need Duplicates\n",
        "\n",
        "Lists allow duplicate elements; dictionaries require unique keys.\n",
        "\n",
        "If duplicates are meaningful, lists are better."
      ],
      "metadata": {
        "id": "F2dyC3o8Mm45"
      }
    },
    {
      "cell_type": "markdown",
      "source": [
        "19. Why are dictionaries considered unordered, and how does that affect data retrieval?\n",
        "\n",
        "Historical Context\n",
        "\n",
        " dictionaries did not preserve insertion order.\n",
        "\n",
        "When you added key-value pairs, the order in which items were stored or retrieved was unpredictable.\n",
        "\n",
        "This was because dictionaries use hash tables internally, which focus on fast lookup, not order.\n",
        "\n",
        "What Does This Mean?\n",
        "\n",
        "Iterating over a dictionary’s keys, values, or items could return them in any order.\n",
        "\n",
        "You could not rely on the order of items for consistent output or processing."
      ],
      "metadata": {
        "id": "WekkX79pNDPC"
      }
    },
    {
      "cell_type": "markdown",
      "source": [
        "20. Explain the difference between a list and a dictionary in terms of data retrieval?\n",
        "\n",
        "\n",
        "1. Data Retrieval in Lists\n",
        "\n",
        "Access by index: You retrieve elements by their position (index) in the list.\n",
        "\n",
        "Time complexity: Accessing an element by index is O(1) (constant time).\n",
        "\n",
        "Searching for a value: If you want to check whether a value exists or find its position, you need to scan the list.\n",
        "\n",
        "Searching complexity: This is O(n) (linear time), because it might have to check every element.\n",
        "\n",
        "Example:\n",
        "\n",
        "my_list = ['apple', 'banana', 'cherry']\n",
        "\n",
        "print(my_list[1])        # Output: 'banana' (fast, direct access)\n",
        "\n",
        "print('banana' in my_list)  # Output: True (slow, searches entire list)\n",
        "\n",
        "2. Data Retrieval in Dictionaries\n",
        "\n",
        "Access by key: You retrieve values by their unique keys.\n",
        "\n",
        "Time complexity: Accessing an element by key is O(1) on average (very fast).\n",
        "\n",
        "Key lookup: Checking if a key exists and retrieving its value is efficient due to the hash table structure.\n",
        "\n",
        "Values are not directly searchable: The in keyword checks keys, not values.\n",
        "\n",
        "Example:\n",
        "my_dict = {'name': 'Alice', 'age': 30, 'city': 'NY'}\n",
        "\n",
        "print(my_dict['age'])    # Output: 30 (fast direct access)\n",
        "\n",
        "print('age' in my_dict)  # Output: True (fast key existence check)\n",
        "\n",
        "print(30 in my_dict)     # Output: False (searches keys, not values)"
      ],
      "metadata": {
        "id": "uVPjCoFuNZ1n"
      }
    },
    {
      "cell_type": "code",
      "source": [
        "1. # Write a code to create a string with your name and print it?\n",
        "\n",
        "name = \"Rajeswar\"\n",
        "print(name)\n"
      ],
      "metadata": {
        "colab": {
          "base_uri": "https://localhost:8080/"
        },
        "id": "6MltzcO7Nzby",
        "outputId": "d3ac746d-f912-4b3b-968b-6c2b8183707b"
      },
      "execution_count": null,
      "outputs": [
        {
          "output_type": "stream",
          "name": "stdout",
          "text": [
            "Rajeswar\n"
          ]
        }
      ]
    },
    {
      "cell_type": "code",
      "source": [
        "2. # Write a code to find the length of the string \"Hello World\"\n",
        "\n",
        "text = \"Hello World\"\n",
        "length = len(text)\n",
        "print(length)\n"
      ],
      "metadata": {
        "colab": {
          "base_uri": "https://localhost:8080/"
        },
        "id": "0_sulEpzONH9",
        "outputId": "b25f28fa-7ed9-4062-a7a2-029cb5e8b44a"
      },
      "execution_count": null,
      "outputs": [
        {
          "output_type": "stream",
          "name": "stdout",
          "text": [
            "11\n"
          ]
        }
      ]
    },
    {
      "cell_type": "code",
      "source": [
        "3. # Write a code to slice the first 3 characters from the string \"Python Programming\"\n",
        "\n",
        "text = \"Python Programming\"\n",
        "first_three = text[:3]\n",
        "print(first_three)\n"
      ],
      "metadata": {
        "colab": {
          "base_uri": "https://localhost:8080/"
        },
        "id": "dJbIAMbWObzM",
        "outputId": "96ba3f04-2882-4256-ebc6-2333a5b63011"
      },
      "execution_count": null,
      "outputs": [
        {
          "output_type": "stream",
          "name": "stdout",
          "text": [
            "Pyt\n"
          ]
        }
      ]
    },
    {
      "cell_type": "code",
      "source": [
        "4. # Write a code to convert the string \"hello\" to uppercase?\n",
        "\n",
        "text = \"hello\"\n",
        "uppercase_text = text.upper()\n",
        "print(uppercase_text)\n"
      ],
      "metadata": {
        "id": "M1uI2r8IOudt",
        "colab": {
          "base_uri": "https://localhost:8080/"
        },
        "outputId": "f93b2b1c-53b7-4c80-bda8-0d5892dba867"
      },
      "execution_count": null,
      "outputs": [
        {
          "output_type": "stream",
          "name": "stdout",
          "text": [
            "HELLO\n"
          ]
        }
      ]
    },
    {
      "cell_type": "code",
      "source": [
        "5. # Write a code to replace the word \"apple\" with \"orange\" in the string \"I like apple\"\n",
        "\n",
        "text = \"I like apple\"\n",
        "updated_text = text.replace(\"apple\", \"orange\")\n",
        "print(updated_text)\n"
      ],
      "metadata": {
        "colab": {
          "base_uri": "https://localhost:8080/"
        },
        "id": "qCf6A8l_DiCu",
        "outputId": "df497729-f600-4cb6-b265-1b5002a7947f"
      },
      "execution_count": null,
      "outputs": [
        {
          "output_type": "stream",
          "name": "stdout",
          "text": [
            "I like orange\n"
          ]
        }
      ]
    },
    {
      "cell_type": "code",
      "source": [
        "6. # Write a code to create a list with numbers 1 to 5 and print it.\n",
        "\n",
        "numbers = [1, 2, 3, 4, 5]\n",
        "print(numbers)\n"
      ],
      "metadata": {
        "colab": {
          "base_uri": "https://localhost:8080/"
        },
        "id": "__4IqdBBD8QJ",
        "outputId": "dcb4a6b5-9271-4b22-8b3f-9e9de519d27c"
      },
      "execution_count": null,
      "outputs": [
        {
          "output_type": "stream",
          "name": "stdout",
          "text": [
            "[1, 2, 3, 4, 5]\n"
          ]
        }
      ]
    },
    {
      "cell_type": "code",
      "source": [
        "7. # Write a code to append the number 10 to the list [1, 2, 3, 4].\n",
        "\n",
        "numbers = [1, 2, 3, 4]\n",
        "numbers.append(10)\n",
        "print(numbers)\n"
      ],
      "metadata": {
        "colab": {
          "base_uri": "https://localhost:8080/"
        },
        "id": "JdUOFPK9EMo_",
        "outputId": "44dc0572-4c19-4ffb-ceab-dc487632c189"
      },
      "execution_count": null,
      "outputs": [
        {
          "output_type": "stream",
          "name": "stdout",
          "text": [
            "[1, 2, 3, 4, 10]\n"
          ]
        }
      ]
    },
    {
      "cell_type": "code",
      "source": [
        "8. # Write a code to remove the number 3 from the list [1, 2, 3, 4, 5].\n",
        "\n",
        "numbers = [1, 2, 3, 4, 5]\n",
        "numbers.remove(3)\n",
        "print(numbers)\n"
      ],
      "metadata": {
        "colab": {
          "base_uri": "https://localhost:8080/"
        },
        "id": "vYgvLFykEjJm",
        "outputId": "79fc3027-1ccf-4674-d29c-e8aed49d7411"
      },
      "execution_count": null,
      "outputs": [
        {
          "output_type": "stream",
          "name": "stdout",
          "text": [
            "[1, 2, 4, 5]\n"
          ]
        }
      ]
    },
    {
      "cell_type": "code",
      "source": [
        "9. #  Write a code to access the second element in the list ['a', 'b', 'c', 'd'].\n",
        "\n",
        "letters = ['a', 'b', 'c', 'd']\n",
        "second_element = letters[1]\n",
        "print(second_element)\n"
      ],
      "metadata": {
        "colab": {
          "base_uri": "https://localhost:8080/"
        },
        "id": "OR9HHUXFEwA8",
        "outputId": "03ea76a2-3913-414a-fefe-f2afad412903"
      },
      "execution_count": null,
      "outputs": [
        {
          "output_type": "stream",
          "name": "stdout",
          "text": [
            "b\n"
          ]
        }
      ]
    },
    {
      "cell_type": "code",
      "source": [
        "10. # Write a code to reverse the list [10, 20, 30, 40, 50].\n",
        "\n",
        "numbers = [10, 20, 30, 40, 50]\n",
        "numbers.reverse()\n",
        "print(numbers)\n"
      ],
      "metadata": {
        "colab": {
          "base_uri": "https://localhost:8080/"
        },
        "id": "5XYhLzSvE-KY",
        "outputId": "3c576053-bbf3-4d22-d4e3-e960b1d7343c"
      },
      "execution_count": null,
      "outputs": [
        {
          "output_type": "stream",
          "name": "stdout",
          "text": [
            "[50, 40, 30, 20, 10]\n"
          ]
        }
      ]
    },
    {
      "cell_type": "code",
      "source": [
        "11. # Write a code to create a tuple with the elements 100, 200, 300 and print it.\n",
        "\n",
        "my_tuple = (100, 200, 300)\n",
        "print(my_tuple)\n"
      ],
      "metadata": {
        "colab": {
          "base_uri": "https://localhost:8080/"
        },
        "id": "aFsSEICUFKiQ",
        "outputId": "703118b8-0d21-4c7b-d1ea-95e6702ddbd7"
      },
      "execution_count": null,
      "outputs": [
        {
          "output_type": "stream",
          "name": "stdout",
          "text": [
            "(100, 200, 300)\n"
          ]
        }
      ]
    },
    {
      "cell_type": "code",
      "source": [
        "12. # Write a code to access the second-to-last element of the tuple ('red', 'green', 'blue', 'yellow').\n",
        "\n",
        "colors = ('red', 'green', 'blue', 'yellow')\n",
        "second_to_last = colors[-2]\n",
        "print(second_to_last)\n"
      ],
      "metadata": {
        "colab": {
          "base_uri": "https://localhost:8080/"
        },
        "id": "XnHc6q1ZFbdJ",
        "outputId": "7346c0a2-94de-4af2-ad32-d3eaa29c5b37"
      },
      "execution_count": null,
      "outputs": [
        {
          "output_type": "stream",
          "name": "stdout",
          "text": [
            "blue\n"
          ]
        }
      ]
    },
    {
      "cell_type": "code",
      "source": [
        "13. # Write a code to find the minimum number in the tuple (10, 20, 5, 15).\n",
        "\n",
        "numbers = (10, 20, 5, 15)\n",
        "min_number = min(numbers)\n",
        "print(min_number)\n"
      ],
      "metadata": {
        "colab": {
          "base_uri": "https://localhost:8080/"
        },
        "id": "RmjC5WQ4FuIO",
        "outputId": "75af44af-017b-40cb-8fae-2d62f8537ef8"
      },
      "execution_count": null,
      "outputs": [
        {
          "output_type": "stream",
          "name": "stdout",
          "text": [
            "5\n"
          ]
        }
      ]
    },
    {
      "cell_type": "code",
      "source": [
        "14. #  Write a code to find the index of the element \"cat\" in the tuple ('dog', 'cat', 'rabbit').\n",
        "\n",
        "animals = ('dog', 'cat', 'rabbit')\n",
        "index_of_cat = animals.index('cat')\n",
        "print(index_of_cat)\n"
      ],
      "metadata": {
        "colab": {
          "base_uri": "https://localhost:8080/"
        },
        "id": "jwMKFgifF5D7",
        "outputId": "3b3ed025-0ff6-4ad0-fa99-40e399b18ee6"
      },
      "execution_count": null,
      "outputs": [
        {
          "output_type": "stream",
          "name": "stdout",
          "text": [
            "1\n"
          ]
        }
      ]
    },
    {
      "cell_type": "code",
      "source": [
        "15. #  Write a code to create a tuple containing three different fruits and check if \"kiwi\" is in it.\n",
        "\n",
        "fruits = ('apple', 'banana', 'orange')\n",
        "if 'kiwi' in fruits:\n",
        "    print(\"Kiwi is in the tuple.\")\n",
        "else:\n",
        "    print(\"Kiwi is NOT in the tuple.\")\n"
      ],
      "metadata": {
        "colab": {
          "base_uri": "https://localhost:8080/"
        },
        "id": "BJeP9rfGGKin",
        "outputId": "48aa7175-1c21-48b2-a53c-308ba8f95114"
      },
      "execution_count": null,
      "outputs": [
        {
          "output_type": "stream",
          "name": "stdout",
          "text": [
            "Kiwi is NOT in the tuple.\n"
          ]
        }
      ]
    },
    {
      "cell_type": "code",
      "source": [
        "16. # Write a code to create a set with the elements 'a', 'b', 'c' and print it.\n",
        "\n",
        "my_set = {'a', 'b', 'c'}\n",
        "print(my_set)\n"
      ],
      "metadata": {
        "colab": {
          "base_uri": "https://localhost:8080/"
        },
        "id": "gmveTeCEGXIp",
        "outputId": "e19bbf18-6f31-41ed-82a4-b4ca06ca401d"
      },
      "execution_count": null,
      "outputs": [
        {
          "output_type": "stream",
          "name": "stdout",
          "text": [
            "{'b', 'c', 'a'}\n"
          ]
        }
      ]
    },
    {
      "cell_type": "code",
      "source": [
        "17. #  Write a code to clear all elements from the set {1, 2, 3, 4, 5}.\n",
        "\n",
        "my_set = {1, 2, 3, 4, 5}\n",
        "my_set.clear()\n",
        "print(my_set)\n"
      ],
      "metadata": {
        "colab": {
          "base_uri": "https://localhost:8080/"
        },
        "id": "D9oj3L48Ghpl",
        "outputId": "c0a4dee6-3dfb-414c-e382-4beeeda32a56"
      },
      "execution_count": null,
      "outputs": [
        {
          "output_type": "stream",
          "name": "stdout",
          "text": [
            "set()\n"
          ]
        }
      ]
    },
    {
      "cell_type": "code",
      "source": [
        "18. # Write a code to remove the element 4 from the set {1, 2, 3, 4}.\n",
        "\n",
        "my_set = {1, 2, 3, 4}\n",
        "my_set.remove(4)\n",
        "print(my_set)\n"
      ],
      "metadata": {
        "colab": {
          "base_uri": "https://localhost:8080/"
        },
        "id": "9o2NVfS2Go-8",
        "outputId": "70293185-36ad-4165-afce-f61900a6cb37"
      },
      "execution_count": null,
      "outputs": [
        {
          "output_type": "stream",
          "name": "stdout",
          "text": [
            "{1, 2, 3}\n"
          ]
        }
      ]
    },
    {
      "cell_type": "code",
      "source": [
        "19. # Write a code to find the union of two sets {1, 2, 3} and {3, 4, 5}.\n",
        "\n",
        "set1 = {1, 2, 3}\n",
        "set2 = {3, 4, 5}\n",
        "union_set = set1.union(set2)\n",
        "print(union_set)\n"
      ],
      "metadata": {
        "colab": {
          "base_uri": "https://localhost:8080/"
        },
        "id": "Wgd7jRg_G0wq",
        "outputId": "faf787e4-a9a5-44bd-c46c-41e93f0cf1d1"
      },
      "execution_count": null,
      "outputs": [
        {
          "output_type": "stream",
          "name": "stdout",
          "text": [
            "{1, 2, 3, 4, 5}\n"
          ]
        }
      ]
    },
    {
      "cell_type": "code",
      "source": [
        "20. #  Write a code to find the intersection of two sets {1, 2, 3} and {2, 3, 4}.\n",
        "\n",
        "set1 = {1, 2, 3}\n",
        "set2 = {2, 3, 4}\n",
        "intersection_set = set1.intersection(set2)\n",
        "print(intersection_set)\n"
      ],
      "metadata": {
        "colab": {
          "base_uri": "https://localhost:8080/"
        },
        "id": "OJ_s4PoHHHq4",
        "outputId": "292984e7-0d5f-479b-c09d-b6f2ba2841c0"
      },
      "execution_count": null,
      "outputs": [
        {
          "output_type": "stream",
          "name": "stdout",
          "text": [
            "{2, 3}\n"
          ]
        }
      ]
    },
    {
      "cell_type": "code",
      "source": [
        "21. # Write a code to create a dictionary with the keys \"name\", \"age\", and \"city\", and print it.\n",
        "\n",
        "person = {\n",
        "    \"name\": \"Rajeswar\",\n",
        "    \"age\": 26,\n",
        "    \"city\": \"Bhubaneswar\"\n",
        "}\n",
        "\n",
        "print(person)\n"
      ],
      "metadata": {
        "colab": {
          "base_uri": "https://localhost:8080/"
        },
        "id": "tmfzwrYVHTPc",
        "outputId": "1817bc07-6f8f-4cbd-e5e7-7b3b2b92b3ff"
      },
      "execution_count": null,
      "outputs": [
        {
          "output_type": "stream",
          "name": "stdout",
          "text": [
            "{'name': 'Rajeswar', 'age': 26, 'city': 'Bhubaneswar'}\n"
          ]
        }
      ]
    },
    {
      "cell_type": "code",
      "source": [
        "22. # Write a code to add a new key-value pair \"country\": \"USA\" to the dictionary {'name': 'John', 'age': 25}.\n",
        "\n",
        "person = {'name': 'John', 'age': 25}\n",
        "person['country'] = 'USA'\n",
        "print(person)\n"
      ],
      "metadata": {
        "colab": {
          "base_uri": "https://localhost:8080/"
        },
        "id": "gFCwB7I2HnVr",
        "outputId": "282c9507-1f16-4888-e80b-77e9934173f4"
      },
      "execution_count": null,
      "outputs": [
        {
          "output_type": "stream",
          "name": "stdout",
          "text": [
            "{'name': 'John', 'age': 25, 'country': 'USA'}\n"
          ]
        }
      ]
    },
    {
      "cell_type": "code",
      "source": [
        "23. # Write a code to access the value associated with the key \"name\" in the dictionary {'name': 'Alice', 'age': 30}.\n",
        "\n",
        "person = {'name': 'Alice', 'age': 30}\n",
        "name_value = person['name']\n",
        "print(name_value)\n"
      ],
      "metadata": {
        "colab": {
          "base_uri": "https://localhost:8080/"
        },
        "id": "jLruDYwbH3wr",
        "outputId": "8b749dea-8d22-40b4-c58a-70e31f55e235"
      },
      "execution_count": null,
      "outputs": [
        {
          "output_type": "stream",
          "name": "stdout",
          "text": [
            "Alice\n"
          ]
        }
      ]
    },
    {
      "cell_type": "code",
      "source": [
        "24. #  Write a code to remove the key \"age\" from the dictionary {'name': 'Bob', 'age': 22, 'city': 'New York'}.\n",
        "\n",
        "person = {'name': 'Bob', 'age': 22, 'city': 'New York'}\n",
        "person.pop('age')\n",
        "print(person)\n"
      ],
      "metadata": {
        "colab": {
          "base_uri": "https://localhost:8080/"
        },
        "id": "E9JQUquxIOJy",
        "outputId": "0b485363-58b0-4b97-cb6e-57880b5faab0"
      },
      "execution_count": null,
      "outputs": [
        {
          "output_type": "stream",
          "name": "stdout",
          "text": [
            "{'name': 'Bob', 'city': 'New York'}\n"
          ]
        }
      ]
    },
    {
      "cell_type": "code",
      "source": [
        "25. # Write a code to check if the key \"city\" exists in the dictionary {'name': 'Alice', 'city': 'Paris'}.\n",
        "\n",
        "person = {'name': 'Alice', 'city': 'Paris'}\n",
        "\n",
        "if 'city' in person:\n",
        "    print(\"Key 'city' exists in the dictionary.\")\n",
        "else:\n",
        "    print(\"Key 'city' does NOT exist in the dictionary.\")\n"
      ],
      "metadata": {
        "colab": {
          "base_uri": "https://localhost:8080/"
        },
        "id": "IyKc5UjfIgOw",
        "outputId": "328c6901-7a31-48a2-ac1e-592d5f485733"
      },
      "execution_count": null,
      "outputs": [
        {
          "output_type": "stream",
          "name": "stdout",
          "text": [
            "Key 'city' exists in the dictionary.\n"
          ]
        }
      ]
    },
    {
      "cell_type": "code",
      "source": [
        "26. # Write a code to create a list, a tuple, and a dictionary, and print them all.\n",
        "\n",
        "# Create a list\n",
        "my_list = [1, 2, 3]\n",
        "\n",
        "# Create a tuple\n",
        "my_tuple = ('a', 'b', 'c')\n",
        "\n",
        "# Create a dictionary\n",
        "my_dict = {'name': 'Alice', 'age': 25}\n",
        "\n",
        "# Print them all\n",
        "print(\"List:\", my_list)\n",
        "print(\"Tuple:\", my_tuple)\n",
        "print(\"Dictionary:\", my_dict)\n"
      ],
      "metadata": {
        "colab": {
          "base_uri": "https://localhost:8080/"
        },
        "id": "IwIfn8bVI8vv",
        "outputId": "df9b19b0-46bf-420e-b0f4-88ccd13a0428"
      },
      "execution_count": null,
      "outputs": [
        {
          "output_type": "stream",
          "name": "stdout",
          "text": [
            "List: [1, 2, 3]\n",
            "Tuple: ('a', 'b', 'c')\n",
            "Dictionary: {'name': 'Alice', 'age': 25}\n"
          ]
        }
      ]
    },
    {
      "cell_type": "code",
      "source": [
        "27. #  Write a code to create a list of 5 random numbers between 1 and 100, sort it in ascending order, and print the result.(replaced)\n",
        "\n",
        "import random\n",
        "\n",
        "# Generate list of 5 random numbers between 1 and 100\n",
        "random_numbers = [random.randint(1, 100) for _ in range(5)]\n",
        "\n",
        "# Sort the list in ascending order\n",
        "random_numbers.sort()\n",
        "\n",
        "# Print the sorted list\n",
        "print(random_numbers)\n",
        "\n"
      ],
      "metadata": {
        "colab": {
          "base_uri": "https://localhost:8080/"
        },
        "id": "O1f23lmwJSR1",
        "outputId": "e20e8387-7dca-405f-9c7f-ee6719b35929"
      },
      "execution_count": null,
      "outputs": [
        {
          "output_type": "stream",
          "name": "stdout",
          "text": [
            "[2, 8, 12, 16, 89]\n"
          ]
        }
      ]
    },
    {
      "cell_type": "code",
      "source": [
        "28. # Write a code to create a list with strings and print the element at the third index.\n",
        "\n",
        "my_list = ['apple', 'banana', 'cherry', 'date', 'elderberry']\n",
        "print(my_list[3])\n"
      ],
      "metadata": {
        "colab": {
          "base_uri": "https://localhost:8080/"
        },
        "id": "PgflLSpsJqfI",
        "outputId": "1723d882-3d91-4f7b-cf36-efda6124d0d9"
      },
      "execution_count": null,
      "outputs": [
        {
          "output_type": "stream",
          "name": "stdout",
          "text": [
            "date\n"
          ]
        }
      ]
    },
    {
      "cell_type": "code",
      "source": [
        "29. # Write a code to combine two dictionaries into one and print the result.\n",
        "\n",
        "dict1 = {'a': 1, 'b': 2}\n",
        "dict2 = {'c': 3, 'd': 4}\n",
        "\n",
        "combined_dict = {**dict1, **dict2}\n",
        "\n",
        "print(combined_dict)\n"
      ],
      "metadata": {
        "colab": {
          "base_uri": "https://localhost:8080/"
        },
        "id": "ds8ON8zjKPpD",
        "outputId": "773876d8-fd8b-46b5-f8a7-594e9b5cbe6c"
      },
      "execution_count": null,
      "outputs": [
        {
          "output_type": "stream",
          "name": "stdout",
          "text": [
            "{'a': 1, 'b': 2, 'c': 3, 'd': 4}\n"
          ]
        }
      ]
    },
    {
      "cell_type": "code",
      "source": [
        "30. # Write a code to convert a list of strings into a set\n",
        "\n",
        "string_list = ['apple', 'banana', 'apple', 'cherry', 'banana']\n",
        "string_set = set(string_list)\n",
        "print(string_set)\n"
      ],
      "metadata": {
        "colab": {
          "base_uri": "https://localhost:8080/"
        },
        "id": "3fV6wZA4KkbB",
        "outputId": "8ba5a2fc-6598-4fb6-99d2-ce0631417e84"
      },
      "execution_count": null,
      "outputs": [
        {
          "output_type": "stream",
          "name": "stdout",
          "text": [
            "{'cherry', 'banana', 'apple'}\n"
          ]
        }
      ]
    },
    {
      "cell_type": "code",
      "source": [],
      "metadata": {
        "id": "Ewe1FtiSKu0z"
      },
      "execution_count": null,
      "outputs": []
    }
  ]
}